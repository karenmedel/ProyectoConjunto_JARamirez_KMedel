{
 "cells": [
  {
   "cell_type": "markdown",
   "metadata": {
    "collapsed": true
   },
   "source": [
    "# Mis espectativas\n",
    "\n",
    "Mis expectativas del curso de Simulación de Procesos Financieros es poder aprender a simular los modelos matemáticos interpretados en las finanzas. Comprender la sintaxis de JupyterNotebook para así poder escribir en sintaxis de matemáticas."
   ]
  },
  {
   "cell_type": "markdown",
   "metadata": {},
   "source": [
    "### Escribir en LATEX diferentes ecuaciones"
   ]
  },
  {
   "cell_type": "markdown",
   "metadata": {},
   "source": [
    "$$\\int_{^{a}}^{b}x^{a}dx$$\n",
    "\n",
    "\n",
    "$$\\frac{1}{\\sigma\\sqrt[]{2\\pi }}e^{-\\tfrac{(x+\\mu)^{2} }{2\\sigma^{2}}}$$"
   ]
  },
  {
   "cell_type": "markdown",
   "metadata": {},
   "source": [
    "<img style=\"float: left; margin: 15px 15px 15px 15px;\" src=\"https://cloudinary-a.akamaihd.net/bountysource/image/gravatar/d_noaoqqwxegvmulwus0un.png,c_pad,w_200,h_200,b_white/ef087e00f024efc959067a68fd17b701\" width=\"180\" height=\"50\" /><img style=\"float: left; margin: 15px 15px 15px 15px;\" src=\"https://botw-pd.s3.amazonaws.com/styles/logo-thumbnail/s3/0017/5944/brand.gif?itok=HQflt_Hl\" title=\"github\" width=\"180\" height=\"50\" /><img style=\"float: left; margin: 15px 15px 15px 15px;\" src=\"https://orig00.deviantart.net/06e8/f/2012/051/a/3/flor_png_by_javiandrea-d4qd6cf.png\" title=\"gitkraken\" width=\"180\" height=\"50\" /><img style=\"float: left; margin: 15px 15px 15px 15px;\" src=\"https://data.whicdn.com/images/122101393/large.jpg\" title=\"gitkraken\" width=\"180\" height=\"50\" />"
   ]
  },
  {
   "cell_type": "markdown",
   "metadata": {},
   "source": [
    "### Tablas\n",
    "| Producto     | Cantidad    | Precio por unidad |\n",
    "| --------|---------|-------|\n",
    "| Galletas | 10   | $\\$6.00$    |\n",
    "| Helado | 2 | $\\$25.00$    |"
   ]
  },
  {
   "cell_type": "code",
   "execution_count": null,
   "metadata": {
    "collapsed": true
   },
   "outputs": [],
   "source": []
  }
 ],
 "metadata": {
  "anaconda-cloud": {},
  "kernelspec": {
   "display_name": "Python [conda root]",
   "language": "python",
   "name": "conda-root-py"
  },
  "language_info": {
   "codemirror_mode": {
    "name": "ipython",
    "version": 3
   },
   "file_extension": ".py",
   "mimetype": "text/x-python",
   "name": "python",
   "nbconvert_exporter": "python",
   "pygments_lexer": "ipython3",
   "version": "3.5.2"
  }
 },
 "nbformat": 4,
 "nbformat_minor": 1
}
