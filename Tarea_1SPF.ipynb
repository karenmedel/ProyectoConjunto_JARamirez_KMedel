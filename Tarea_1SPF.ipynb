{
 "cells": [
  {
   "cell_type": "markdown",
   "metadata": {},
   "source": [
    "# Mis espectativas\n",
    "## Karen Medel\n",
    "###### if697540\n",
    "\n",
    "Mis expectativas del curso de Simulación de Procesos Financieros es poder aprender a simular los modelos matemáticos interpretados en las finanzas. Comprender la sintaxis de JupyterNotebook para así poder escribir en sintaxis de matemáticas."
   ]
  },
  {
   "cell_type": "markdown",
   "metadata": {},
   "source": [
    "### Escribir en LATEX diferentes ecuaciones"
   ]
  },
  {
   "cell_type": "markdown",
   "metadata": {},
   "source": [
    "$$\\int_{^{a}}^{b}x^{a}dx$$\n",
    "\n",
    "\n",
    "$$\\frac{1}{\\sigma\\sqrt[]{2\\pi }}e^{-\\tfrac{(x+\\mu)^{2} }{2\\sigma^{2}}}$$"
   ]
  },
  {
   "cell_type": "markdown",
   "metadata": {},
   "source": [
    "### Tablas\n",
    "Esta tabla muestra productos y su precio unitario\n",
    "\n",
    "| Producto     | Cantidad    | Precio por unidad |\n",
    "| --------|---------|-------|\n",
    "| Galletas | 10   | $\\$6.00$    |\n",
    "| Helado | 2 | $\\$25.00$    |"
   ]
  },
  {
   "cell_type": "markdown",
   "metadata": {},
   "source": [
    "### Imagenes"
   ]
  },
  {
   "cell_type": "markdown",
   "metadata": {},
   "source": [
    "<img style=\"float: left; margin: 15px 15px 15px 15px;\" src=\"https://wiki.tum.de/download/attachments/4305848/ShareLaTeX?version=2&modificationDate=1476809162337&api=v2\" width=\"180\" height=\"50\" />\n",
    "<img style=\"float: left; margin: 15px 15px 15px 15px;\" src=\"http://sf.co.ua/14/01/wallpaper-1116759.jpg\" title=\"github\" width=\"180\" height=\"50\" />\n",
    "<img style=\"float: left; margin: 15px 15px 15px 15px;\" src=\"https://botw-pd.s3.amazonaws.com/styles/logo-thumbnail/s3/0017/5944/brand.gif?itok=HQflt_Hl\" title=\"gitkraken\" width=\"180\" height=\"50\" />\n",
    "<img style=\"float: left; margin: 15px 15px 15px 15px;\" src=\"https://www.vinilos-folies.es/ori-vinilo-infantil-arbol-5580_2717.jpg\" title=\"gitkraken\" width=\"180\" height=\"50\" />"
   ]
  },
  {
   "cell_type": "code",
   "execution_count": null,
   "metadata": {
    "collapsed": true
   },
   "outputs": [],
   "source": []
  }
 ],
 "metadata": {
  "anaconda-cloud": {},
  "kernelspec": {
   "display_name": "Python [conda root]",
   "language": "python",
   "name": "conda-root-py"
  },
  "language_info": {
   "codemirror_mode": {
    "name": "ipython",
    "version": 3
   },
   "file_extension": ".py",
   "mimetype": "text/x-python",
   "name": "python",
   "nbconvert_exporter": "python",
   "pygments_lexer": "ipython3",
   "version": "3.5.2"
  }
 },
 "nbformat": 4,
 "nbformat_minor": 1
}
